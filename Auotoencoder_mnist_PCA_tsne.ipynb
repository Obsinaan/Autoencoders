{
  "nbformat": 4,
  "nbformat_minor": 0,
  "metadata": {
    "colab": {
      "name": "Auotoencoder_mnist_PCA_tsne.ipynb",
      "provenance": [],
      "authorship_tag": "ABX9TyMBW0DBnxIXw0MjbH0b1YPv",
      "include_colab_link": true
    },
    "kernelspec": {
      "name": "python3",
      "display_name": "Python 3"
    },
    "language_info": {
      "name": "python"
    },
    "accelerator": "GPU"
  },
  "cells": [
    {
      "cell_type": "markdown",
      "metadata": {
        "id": "view-in-github",
        "colab_type": "text"
      },
      "source": [
        "<a href=\"https://colab.research.google.com/github/Obsinaan/Autoencoders/blob/master/Auotoencoder_mnist_PCA_tsne.ipynb\" target=\"_parent\"><img src=\"https://colab.research.google.com/assets/colab-badge.svg\" alt=\"Open In Colab\"/></a>"
      ]
    },
    {
      "cell_type": "markdown",
      "source": [
        "#Autoencoder MNIST_DATA"
      ],
      "metadata": {
        "id": "Cmj27UZDG19G"
      }
    },
    {
      "cell_type": "code",
      "source": [
        "!pip install umap"
      ],
      "metadata": {
        "colab": {
          "base_uri": "https://localhost:8080/"
        },
        "id": "pMpGDnW5HCwh",
        "outputId": "58410ce2-bde9-4403-8a62-f4f9632e0bd1"
      },
      "execution_count": 1,
      "outputs": [
        {
          "output_type": "stream",
          "name": "stdout",
          "text": [
            "Collecting umap\n",
            "  Downloading umap-0.1.1.tar.gz (3.2 kB)\n",
            "Building wheels for collected packages: umap\n",
            "  Building wheel for umap (setup.py) ... \u001b[?25l\u001b[?25hdone\n",
            "  Created wheel for umap: filename=umap-0.1.1-py3-none-any.whl size=3565 sha256=9d32c5201cc73e863a0d0456f5af9a42f11d741293cd6f1a995079d1ee554b0e\n",
            "  Stored in directory: /root/.cache/pip/wheels/65/55/85/945cfb3d67373767e4dc3e9629300a926edde52633df4f0efe\n",
            "Successfully built umap\n",
            "Installing collected packages: umap\n",
            "Successfully installed umap-0.1.1\n"
          ]
        }
      ]
    },
    {
      "cell_type": "code",
      "source": [
        "from keras.datasets import mnist\n",
        "import matplotlib.pyplot as plt\n",
        "import numpy as np\n",
        "from time import time\n",
        "from sklearn.svm import SVC\n",
        "from sklearn import metrics\n",
        "from sklearn.metrics import confusion_matrix\n",
        "from sklearn.preprocessing import StandardScaler\n",
        "from sklearn.decomposition import PCA\n",
        "from sklearn.pipeline import Pipeline\n",
        "from sklearn.manifold import TSNE\n",
        "import umap"
      ],
      "metadata": {
        "id": "LlerCTJdG5Vw"
      },
      "execution_count": null,
      "outputs": []
    },
    {
      "cell_type": "markdown",
      "source": [
        "#Load data"
      ],
      "metadata": {
        "id": "-VTxyEaqG-Oo"
      }
    },
    {
      "cell_type": "code",
      "source": [
        "# Load mnist dataset\n",
        "(x_train, y_train), (x_test, y_test) = mnist.load_data()"
      ],
      "metadata": {
        "colab": {
          "base_uri": "https://localhost:8080/"
        },
        "id": "YIC2dZkJG9Yc",
        "outputId": "8d11f744-01da-4df7-85c8-9617178fc82d"
      },
      "execution_count": 3,
      "outputs": [
        {
          "output_type": "stream",
          "name": "stdout",
          "text": [
            "Downloading data from https://storage.googleapis.com/tensorflow/tf-keras-datasets/mnist.npz\n",
            "11493376/11490434 [==============================] - 0s 0us/step\n",
            "11501568/11490434 [==============================] - 0s 0us/step\n"
          ]
        }
      ]
    },
    {
      "cell_type": "code",
      "source": [
        "print(x_train.shape, y_train.shape)\n",
        "print(x_test.shape, y_test.shape)"
      ],
      "metadata": {
        "colab": {
          "base_uri": "https://localhost:8080/"
        },
        "id": "1sVctHVbG7Hz",
        "outputId": "6431a604-8bc2-47d3-eb15-ff47591080e9"
      },
      "execution_count": 4,
      "outputs": [
        {
          "output_type": "stream",
          "name": "stdout",
          "text": [
            "(60000, 28, 28) (60000,)\n",
            "(10000, 28, 28) (10000,)\n"
          ]
        }
      ]
    },
    {
      "cell_type": "code",
      "source": [
        "# Reshape the 28x28 pixel images into a single 784px vector using .reshape\n",
        "x_train = np.reshape(x_train, (len(x_train), -1))/255\n",
        "x_test = np.reshape(x_test, (len(x_test), -1))/255\n",
        "\n",
        "print(x_train.shape, y_train.shape)\n",
        "print(x_test.shape, y_test.shape)"
      ],
      "metadata": {
        "colab": {
          "base_uri": "https://localhost:8080/"
        },
        "id": "t4W6in5hHKP3",
        "outputId": "acb55cd1-578d-43e4-d727-9d3c1c76fb1a"
      },
      "execution_count": 5,
      "outputs": [
        {
          "output_type": "stream",
          "name": "stdout",
          "text": [
            "(60000, 784) (60000,)\n",
            "(10000, 784) (10000,)\n"
          ]
        }
      ]
    },
    {
      "cell_type": "code",
      "source": [
        "# Set number of components to extract and scale each feature to have a variance of 1\n",
        "steps = [('scaling', StandardScaler()), ('pca', PCA(n_components=0.85))]\n",
        "pipeline = Pipeline(steps)\n",
        "pipeline.fit(x_train)"
      ],
      "metadata": {
        "colab": {
          "base_uri": "https://localhost:8080/"
        },
        "id": "VtyFzXJMHN54",
        "outputId": "ff7c3299-f3d5-4c2d-b4f8-a9098308d4d6"
      },
      "execution_count": 6,
      "outputs": [
        {
          "output_type": "execute_result",
          "data": {
            "text/plain": [
              "Pipeline(steps=[('scaling', StandardScaler()), ('pca', PCA(n_components=0.85))])"
            ]
          },
          "metadata": {},
          "execution_count": 6
        }
      ]
    },
    {
      "cell_type": "code",
      "source": [
        "Pipeline(memory=None,\n",
        "         steps=[('scaling',\n",
        "                 StandardScaler(copy=True, with_mean=True, with_std=True)),\n",
        "                ('pca',\n",
        "                 PCA(copy=True, iterated_power='auto', n_components=0.85,\n",
        "                     random_state=None, svd_solver='auto', tol=0.0,\n",
        "                     whiten=False))],\n",
        "         verbose=False)"
      ],
      "metadata": {
        "colab": {
          "base_uri": "https://localhost:8080/"
        },
        "id": "UC3tppv4HOr-",
        "outputId": "8defa931-cca1-45d1-a6c7-9d85abb0b75a"
      },
      "execution_count": 7,
      "outputs": [
        {
          "output_type": "execute_result",
          "data": {
            "text/plain": [
              "Pipeline(steps=[('scaling', StandardScaler()), ('pca', PCA(n_components=0.85))])"
            ]
          },
          "metadata": {},
          "execution_count": 7
        }
      ]
    },
    {
      "cell_type": "code",
      "source": [
        "#Check number of components extracted to account for 85% of the variance\n",
        "pipeline['pca'].n_components_"
      ],
      "metadata": {
        "colab": {
          "base_uri": "https://localhost:8080/"
        },
        "id": "6nXUEnGwHc4q",
        "outputId": "1dfb5861-cab0-4c12-eb1f-faaad85b0198"
      },
      "execution_count": 8,
      "outputs": [
        {
          "output_type": "execute_result",
          "data": {
            "text/plain": [
              "185"
            ]
          },
          "metadata": {},
          "execution_count": 8
        }
      ]
    },
    {
      "cell_type": "code",
      "source": [
        "reduced = pipeline.inverse_transform(pipeline.transform(x_train))"
      ],
      "metadata": {
        "id": "D_rRVsU9HqRM"
      },
      "execution_count": 9,
      "outputs": []
    },
    {
      "cell_type": "code",
      "source": [
        "# let us visualize the PCA reduced number\n",
        "fig, (ax1, ax2) = plt.subplots(1, 2)\n",
        "ax1.matshow(x_train[0].reshape(28,28), cmap='gray')\n",
        "ax2.matshow(reduced[0].reshape(28,28), cmap='gray')\n",
        "ax1.set_axis_off()\n",
        "ax2.set_axis_off()\n",
        "fig.suptitle(\"Original image VS PCA reduced\".format(y_train[0]))\n",
        "plt.show()"
      ],
      "metadata": {
        "colab": {
          "base_uri": "https://localhost:8080/",
          "height": 245
        },
        "id": "6veu5coPHrNp",
        "outputId": "6cb81cf2-d684-4823-e40d-6510ddcb7e7b"
      },
      "execution_count": 10,
      "outputs": [
        {
          "output_type": "display_data",
          "data": {
            "text/plain": [
              "<Figure size 432x288 with 2 Axes>"
            ],
            "image/png": "[encoded data removed]"
          },
          "metadata": {
            "needs_background": "light"
          }
        }
      ]
    },
    {
      "cell_type": "markdown",
      "source": [
        "#SVM on mnist"
      ],
      "metadata": {
        "id": "Qzwc3BHjH1xq"
      }
    },
    {
      "cell_type": "code",
      "source": [
        "steps = [('scaling', StandardScaler()), ('clf', SVC())]\n",
        "\n",
        "pipeline = Pipeline(steps)\n",
        "\n",
        "# train\n",
        "t0 = time()\n",
        "pipeline.fit(x_train, y_train)\n",
        "\n",
        "# predict\n",
        "y_pred = pipeline.predict(x_test)\n",
        "\n",
        "# accuracy\n",
        "print(\"accuracy:\", metrics.accuracy_score(y_true=y_test, y_pred=y_pred), \"\\n\")\n",
        "\n",
        "# confusion matrix\n",
        "print(metrics.confusion_matrix(y_true=y_test, y_pred=y_pred))\n",
        "\n",
        "# time taken\n",
        "t_all_feats = time() - t0\n",
        "print(\"Training and classification done in {}s\".format(t_all_feats))"
      ],
      "metadata": {
        "colab": {
          "base_uri": "https://localhost:8080/"
        },
        "id": "x0EFwqSYHtqT",
        "outputId": "2130162d-b27e-4bef-c86d-58096e540e4d"
      },
      "execution_count": 11,
      "outputs": [
        {
          "output_type": "stream",
          "name": "stdout",
          "text": [
            "accuracy: 0.9661 \n",
            "\n",
            "[[ 968    0    1    1    0    3    3    2    2    0]\n",
            " [   0 1127    3    0    0    1    2    0    2    0]\n",
            " [   5    1  996    2    2    0    1   15    9    1]\n",
            " [   0    0    4  980    1    7    0   11    7    0]\n",
            " [   0    0   12    0  944    2    4    7    3   10]\n",
            " [   2    0    1   10    2  854    6    8    7    2]\n",
            " [   6    2    1    0    4    8  930    2    5    0]\n",
            " [   1    6   13    2    3    0    0  990    0   13]\n",
            " [   3    0    4    6    6    9    3   14  926    3]\n",
            " [   4    6    5   11   12    2    0   20    3  946]]\n",
            "Training and classification done in 653.428715467453s\n"
          ]
        }
      ]
    },
    {
      "cell_type": "markdown",
      "source": [
        "#Reducing features"
      ],
      "metadata": {
        "id": "hilMaKqSH7yP"
      }
    },
    {
      "cell_type": "code",
      "source": [
        "# define pipeline steps\n",
        "steps = [('scaling', StandardScaler()), ('reduce_dim', PCA(n_components=50)), ('clf', SVC())]\n",
        "pipeline = Pipeline(steps)\n",
        "\n",
        "# train\n",
        "t0 = time()\n",
        "pipeline.fit(x_train, y_train)\n",
        "\n",
        "# predict\n",
        "y_pred = pipeline.predict(x_test)\n",
        "\n",
        "# accuracy\n",
        "print(\"accuracy:\", metrics.accuracy_score(y_true=y_test, y_pred=y_pred), \"\\n\")\n",
        "\n",
        "# confusion matrix\n",
        "print(metrics.confusion_matrix(y_true=y_test, y_pred=y_pred))\n",
        "\n",
        "t_reduced_feats = time() - t0\n",
        "print(\"Training and classification done in {}s\".format(t_reduced_feats))\n",
        "print(\"Speedup {}x\".format(t_all_feats/t_reduced_feats))"
      ],
      "metadata": {
        "colab": {
          "base_uri": "https://localhost:8080/"
        },
        "id": "E0wDpFcXH0Qy",
        "outputId": "7359c858-45ec-4651-9742-484db7d6dd3a"
      },
      "execution_count": 12,
      "outputs": [
        {
          "output_type": "stream",
          "name": "stdout",
          "text": [
            "accuracy: 0.9713 \n",
            "\n",
            "[[ 969    0    1    1    0    4    4    1    0    0]\n",
            " [   0 1126    3    1    0    1    1    0    2    1]\n",
            " [   3    0 1007    3    1    1    1    9    6    1]\n",
            " [   0    1    0  986    2    4    0    8    7    2]\n",
            " [   0    0    8    1  950    0    4    4    2   13]\n",
            " [   2    0    0   13    1  864    6    1    4    1]\n",
            " [   4    3    1    1    4    7  933    1    4    0]\n",
            " [   3    8   13    2    3    0    0  983    2   14]\n",
            " [   4    0    3    9    5    5    1    5  938    4]\n",
            " [   3    5    1    8   13    1    0   14    7  957]]\n",
            "Training and classification done in 64.21700263023376s\n",
            "Speedup 10.17532255795157x\n"
          ]
        }
      ]
    },
    {
      "cell_type": "markdown",
      "source": [
        "#Visualization"
      ],
      "metadata": {
        "id": "Rf-IuYlDIBLq"
      }
    },
    {
      "cell_type": "code",
      "source": [
        "%%time\n",
        "\n",
        "# define pipeline steps\n",
        "pca_pipeline = Pipeline([\n",
        "    ('scaler', StandardScaler()), \n",
        "    ('dim_reduction', PCA(n_components=2))\n",
        "])\n",
        "\n",
        "pca_results =  pca_pipeline.fit_transform(x_train)\n",
        "\n",
        "# create the scatter plot\n",
        "fig, ax = plt.subplots(figsize=(16,11))\n",
        "scatter = ax.scatter(\n",
        "    x=pca_results[:,0], \n",
        "    y=pca_results[:,1], \n",
        "    c=y_train, \n",
        "    cmap=plt.cm.get_cmap('Spectral'), \n",
        "    alpha=0.4)\n",
        "\n",
        "# produce a legend with the colors from the scatter\n",
        "legend = ax.legend(*scatter.legend_elements(), title=\"Classes\",bbox_to_anchor=(1.05, 1), loc='upper left',)\n",
        "ax.add_artist(legend)\n",
        "ax.set_title(\"PCA visualization\")\n",
        "plt.xlabel(\"1st principal component\")\n",
        "plt.ylabel(\"2nd principal component\")\n",
        "plt.show()"
      ],
      "metadata": {
        "id": "MwCnASh2H-x9"
      },
      "execution_count": null,
      "outputs": []
    },
    {
      "cell_type": "markdown",
      "source": [
        "#With t-SNE"
      ],
      "metadata": {
        "id": "DnN-_qTNIHwW"
      }
    },
    {
      "cell_type": "code",
      "source": [
        "%%time\n",
        "\n",
        "# define pipeline steps\n",
        "tsne_pipeline = Pipeline([\n",
        "    ('scaler', StandardScaler()), \n",
        "    # reduce to 50 PCA components, before t-SNE\n",
        "    # otherwise, it is gonna take forever to finish…\n",
        "    ('dim_reduction', PCA(n_components=50)), \n",
        "    ('2d_reduction',  TSNE(n_components=2, init='pca', random_state=42))\n",
        "])\n",
        "\n",
        "tsne_results =  tsne_pipeline.fit_transform(x_train)\n",
        "\n",
        "# Create the scatter plot\n",
        "fig, ax = plt.subplots(figsize=(16,11))\n",
        "scatter = ax.scatter(\n",
        "    x=tsne_results[:,0], \n",
        "    y=tsne_results[:,1], \n",
        "    c=y_train, \n",
        "    cmap=plt.cm.get_cmap('Spectral'), \n",
        "    alpha=0.4)\n",
        "\n",
        "# produce a legend with the colors from the scatter\n",
        "legend = ax.legend(*scatter.legend_elements(), title=\"Classes\",bbox_to_anchor=(1.05, 1), loc='upper left',)\n",
        "ax.add_artist(legend)\n",
        "ax.set_title(\"t-SNE visualization\")\n",
        "plt.xlabel(\"1st t-SNE component\")\n",
        "plt.ylabel(\"2nd t-SNE component\")\n",
        "plt.show()"
      ],
      "metadata": {
        "colab": {
          "base_uri": "https://localhost:8080/"
        },
        "id": "-v-x3P4MIFU9",
        "outputId": "72234510-b8ef-455b-990b-33ad5a15bfb9"
      },
      "execution_count": null,
      "outputs": [
        {
          "output_type": "stream",
          "name": "stderr",
          "text": [
            "/usr/local/lib/python3.7/dist-packages/sklearn/manifold/_t_sne.py:793: FutureWarning: The default learning rate in TSNE will change from 200.0 to 'auto' in 1.2.\n",
            "  FutureWarning,\n",
            "/usr/local/lib/python3.7/dist-packages/sklearn/manifold/_t_sne.py:986: FutureWarning: The PCA initialization in TSNE will change to have the standard deviation of PC1 equal to 1e-4 in 1.2. This will ensure better convergence.\n",
            "  FutureWarning,\n"
          ]
        }
      ]
    },
    {
      "cell_type": "markdown",
      "source": [
        "#UMAP"
      ],
      "metadata": {
        "id": "xWP7yCrLIdS3"
      }
    },
    {
      "cell_type": "code",
      "source": [
        "%time\n",
        "\n",
        "# run UMAP\n",
        "umap_results =  umap.UMAP(n_components=2, random_state=42).fit_transform(x_train)\n",
        "\n",
        "# create the scatter plot\n",
        "fig, ax = plt.subplots(figsize=(16,11))\n",
        "scatter = ax.scatter(\n",
        "    x=umap_results[:,0], \n",
        "    y=umap_results[:,1], \n",
        "    c=y_train, \n",
        "    cmap=plt.cm.get_cmap('Spectral'), \n",
        "    alpha=0.4\n",
        ")\n",
        "\n",
        "# produce a legend with the colors from the scatter\n",
        "legend = ax.legend(*scatter.legend_elements(), title=\"Classes\",bbox_to_anchor=(1.05, 1), loc='upper left',)\n",
        "ax.add_artist(legend)\n",
        "ax.set_title(\"UMAP visualization\")\n",
        "plt.xlabel(\"1st UMAP component\")\n",
        "plt.ylabel(\"2nd UMAP component\")\n",
        "plt.show()"
      ],
      "metadata": {
        "id": "JN2329LcILAn"
      },
      "execution_count": null,
      "outputs": []
    },
    {
      "cell_type": "markdown",
      "source": [
        "https://www.learndatasci.com/tutorials/applied-dimensionality-reduction-techniques-using-python/"
      ],
      "metadata": {
        "id": "7xPNRNKpLL9J"
      }
    },
    {
      "cell_type": "code",
      "source": [
        ""
      ],
      "metadata": {
        "id": "mFIAnbhlLM4O"
      },
      "execution_count": null,
      "outputs": []
    }
  ]
}